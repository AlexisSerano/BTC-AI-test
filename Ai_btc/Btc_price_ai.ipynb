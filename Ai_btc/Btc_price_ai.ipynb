{
 "cells": [
  {
   "cell_type": "code",
   "execution_count": null,
   "metadata": {},
   "outputs": [],
   "source": [
    "import numpy as np\n",
    "import tensorflow as tf\n",
    "import matplotlib.pyplot as plt\n",
    "import pandas as pd\n",
    "import sklearn\n",
    "from sklearn.preprocessing import MinMaxScaler\n",
    "import yfinance as yf\n",
    "import time"
   ]
  },
  {
   "cell_type": "code",
   "execution_count": null,
   "metadata": {},
   "outputs": [],
   "source": [
    "# Obtenir la date actuelle au format 'AAAA-MM-JJ'\n",
    "date_actuelle = time.strftime('%Y-%m-%d')\n",
    "\n",
    "# Récupérer les données jusqu'à la date actuelle pour le prix du Bitcoin en USD\n",
    "btc_data = yf.download('BTC-USD', end=date_actuelle)\n",
    "\n",
    "# Ajouter une colonne de dates au DataFrame\n",
    "btc_data['Date'] = btc_data.index\n",
    "\n",
    "# Réorganiser les colonnes pour avoir 'Date' en première position\n",
    "btc_data = btc_data[['Date'] + [col for col in btc_data.columns if col != 'Date']]\n",
    "\n",
    "# Enregistrez les données mises à jour dans le fichier CSV en écrasant toutes les données existantes\n",
    "btc_data.to_csv('btc_price_data.csv', index=False, mode='w')"
   ]
  },
  {
   "cell_type": "code",
   "execution_count": null,
   "metadata": {},
   "outputs": [],
   "source": [
    "from google.colab import drive\n",
    "drive.mount('/content/drive')"
   ]
  },
  {
   "cell_type": "code",
   "execution_count": null,
   "metadata": {},
   "outputs": [],
   "source": [
    "\n",
    "# Charger les données depuis le fichier CSV\n",
    "data = pd.read_csv('btc_price_data.csv')\n",
    "\n",
    "# Sélectionner les caractéristiques (prix actuels)\n",
    "prix_actuels = data[\"Open\"].values.reshape(-1, 1)\n",
    "\n",
    "# Décaler les prix actuels pour obtenir les prix futurs (décalage d'une ligne)\n",
    "prix_futurs = np.roll(prix_actuels, shift=-1)\n",
    "\n",
    "# Supprimer la dernière ligne pour égaliser la forme des caractéristiques et des étiquettes\n",
    "prix_actuels = prix_actuels[:-1]\n",
    "prix_futurs = prix_futurs[:-1]\n",
    "\n",
    "# Normaliser les caractéristiques et les étiquettes\n",
    "scaler = MinMaxScaler()\n",
    "prix_actuels_normalisés = scaler.fit_transform(prix_actuels)\n",
    "prix_futurs_normalisés = scaler.transform(prix_futurs)\n"
   ]
  },
  {
   "cell_type": "code",
   "execution_count": null,
   "metadata": {},
   "outputs": [],
   "source": [
    "model = tf.keras.models.Sequential()\n",
    "\n",
    "model.add(tf.keras.layers.Dense(256,activation =\"relu\"))\n",
    "model.add(tf.keras.layers.Dense(128,activation =\"relu\"))\n",
    "model.add(tf.keras.layers.Dense(50,activation =\"relu\"))\n",
    "model.add(tf.keras.layers.Dense(1,activation =\"linear\"))\n",
    "\n"
   ]
  },
  {
   "cell_type": "code",
   "execution_count": null,
   "metadata": {},
   "outputs": [],
   "source": [
    "model.compile(\n",
    "    loss =\"mean_squared_error\",\n",
    "    optimizer = \"adam\",\n",
    "    metrics = [\"mae\"]\n",
    ")"
   ]
  },
  {
   "cell_type": "code",
   "execution_count": null,
   "metadata": {},
   "outputs": [],
   "source": [
    "# Entraîner le modèle avec les prix actuels et les prix futurs\n",
    "history = model.fit(prix_actuels_normalisés, prix_futurs_normalisés, epochs=100, validation_split=0.2)\n"
   ]
  },
  {
   "cell_type": "code",
   "execution_count": null,
   "metadata": {},
   "outputs": [],
   "source": [
    "# Sélectionner les caractéristiques pour la prédiction\n",
    "caractéristiques = prix_actuels[-1].reshape(1, -1)  # Utilisez le dernier prix actuel\n",
    "\n",
    "# Normaliser les caractéristiques\n",
    "caractéristiques_normalisées = scaler.transform(caractéristiques)\n",
    "\n",
    "# Faire la prédiction\n",
    "prix_prédits_normalisés = model.predict(caractéristiques_normalisées)\n",
    "\n",
    "# Inverser la normalisation pour obtenir le prix prédit en valeur réelle\n",
    "prix_prédits = scaler.inverse_transform(prix_prédits_normalisés)\n",
    "\n",
    "f = prix_prédits[0][0]\n",
    "\n",
    "print(f\"le prix prévu pour environ demain est d'environ : {f} USD\")\n"
   ]
  },
  {
   "cell_type": "code",
   "execution_count": null,
   "metadata": {},
   "outputs": [],
   "source": [
    "loss_curve = history.history[\"loss\"]\n",
    "acc_curve = history.history[\"mae\"]\n",
    "loss_val_curve = history.history[\"val_loss\"]\n",
    "acc_val_curve = history.history[\"val_mae\"]\n",
    "\n",
    "plt.plot(loss_curve, label=\"Train\")\n",
    "plt.plot(loss_val_curve, label=\"Val\")\n",
    "plt.legend(loc='upper left')\n",
    "plt.title(\"Loss\")\n",
    "plt.show()\n",
    "\n",
    "plt.plot(acc_curve, label=\"Train\")\n",
    "plt.plot(acc_val_curve, label=\"Val\")\n",
    "plt.legend(loc='upper left')\n",
    "plt.title(\"mae\")\n",
    "plt.show()"
   ]
  }
 ],
 "metadata": {
  "kernelspec": {
   "display_name": "Python 3",
   "language": "python",
   "name": "python3"
  },
  "language_info": {
   "codemirror_mode": {
    "name": "ipython",
    "version": 3
   },
   "file_extension": ".py",
   "mimetype": "text/x-python",
   "name": "python",
   "nbconvert_exporter": "python",
   "pygments_lexer": "ipython3",
   "version": "3.12.0"
  }
 },
 "nbformat": 4,
 "nbformat_minor": 2
}
